{
 "cells": [
  {
   "cell_type": "code",
   "execution_count": 33,
   "metadata": {},
   "outputs": [],
   "source": [
    "from math import isnan\n",
    "import sys\n",
    "import numpy as np\n",
    "import pandas as pd\n",
    "from numpy import nan\n",
    "import matplotlib.pyplot as plt\n"
   ]
  },
  {
   "cell_type": "code",
   "execution_count": 34,
   "metadata": {},
   "outputs": [
    {
     "name": "stdout",
     "output_type": "stream",
     "text": [
      "     Unnamed: 0       date  location location_name  cases  deaths  hosps  \\\n",
      "0             0 2021-01-02         1       Alabama   3711       0    441   \n",
      "1             1 2021-01-03         1       Alabama   2476       1    431   \n",
      "2             2 2021-01-04         1       Alabama   2161       5    468   \n",
      "3             3 2021-01-05         1       Alabama   5498       8    451   \n",
      "4             4 2021-01-06         1       Alabama   4591     108    453   \n",
      "..          ...        ...       ...           ...    ...     ...    ...   \n",
      "595         595 2022-08-20         1       Alabama      0       0     80   \n",
      "596         596 2022-08-21         1       Alabama      0       0     91   \n",
      "597         597 2022-08-22         1       Alabama      0       0    111   \n",
      "598         598 2022-08-23         1       Alabama      0       0    109   \n",
      "599         599 2022-08-24         1       Alabama      0       0    118   \n",
      "\n",
      "       vac_count  \n",
      "0         0.0000  \n",
      "1         0.0000  \n",
      "2         0.0000  \n",
      "3         0.0000  \n",
      "4         0.0000  \n",
      "..           ...  \n",
      "595          NaN  \n",
      "596          NaN  \n",
      "597          NaN  \n",
      "598          NaN  \n",
      "599 2364202.0000  \n",
      "\n",
      "[600 rows x 8 columns]\n"
     ]
    }
   ],
   "source": [
    "if __name__ == \"__main__\":\n",
    "    pd.options.display.float_format = '{:.4f}'.format\n",
    "    temp1 = pd.read_csv('_4streams_al.csv.gz')\n",
    "    temp1['date'] = pd.to_datetime(temp7['date'], errors = 'coerce')\n",
    "    print(temp1)\n",
    "    #temp1 = temp[(temp['date'] >= '2022-06-16') & (temp['date']<='2022-07-06')]\n",
    "    temp1['date'] = temp1['date'].dt.strftime('%Y-%m-%d')\n",
    "    temp3 = temp1[temp1['date'] <= '2022-07-16']\n",
    "    temp3 = temp3[temp3['date'] >= '2022-06-10']\n",
    "    for location in temp1['location_name'].unique():\n",
    "            for date in temp1['date'].unique():\n",
    "                if date >= '2022-06-16':\n",
    "                    temp1['vac_count'] = temp1['vac_count'].interpolate()\n",
    "                    temp1['vac_count'] = temp1['vac_count'].astype(int)\n",
    "    \n"
   ]
  },
  {
   "cell_type": "code",
   "execution_count": 35,
   "metadata": {},
   "outputs": [
    {
     "name": "stdout",
     "output_type": "stream",
     "text": [
      "           date location_name  vac_count\n",
      "0    2021-01-02       Alabama          0\n",
      "1    2021-01-03       Alabama          0\n",
      "2    2021-01-04       Alabama          0\n",
      "3    2021-01-05       Alabama          0\n",
      "4    2021-01-06       Alabama          0\n",
      "..          ...           ...        ...\n",
      "595  2022-08-20       Alabama    2362952\n",
      "596  2022-08-21       Alabama    2363265\n",
      "597  2022-08-22       Alabama    2363577\n",
      "598  2022-08-23       Alabama    2363889\n",
      "599  2022-08-24       Alabama    2364202\n",
      "\n",
      "[600 rows x 3 columns]\n"
     ]
    },
    {
     "data": {
      "text/plain": [
       "Text(0, 0.5, 'vac_count')"
      ]
     },
     "execution_count": 35,
     "metadata": {},
     "output_type": "execute_result"
    },
    {
     "data": {
      "image/png": "[encoded data removed]",
      "text/plain": [
       "<Figure size 432x288 with 1 Axes>"
      ]
     },
     "metadata": {
      "needs_background": "light"
     },
     "output_type": "display_data"
    }
   ],
   "source": [
    "#time series graph for the jefferson county\n",
    "#we nedd data column and location_name and vac_count column\n",
    "plot_al = temp1[['date','location_name','vac_count']]\n",
    "print(plot_al)\n",
    "plt.plot(temp1.date, temp1.vac_count, label='Alabama', \n",
    "         linewidth=4)\n",
    "plt.title('vac_Count for alabama by date')\n",
    "plt.xlabel('Date')\n",
    "plt.ylabel('vac_count')\n",
    "#from the graph we can see that the values are going down and we will now investogate the graphs\n",
    "#we will now try on counties"
   ]
  },
  {
   "cell_type": "code",
   "execution_count": 20,
   "metadata": {},
   "outputs": [
    {
     "name": "stdout",
     "output_type": "stream",
     "text": [
      "      Unnamed: 0       date  location     location_name  cases  deaths  hosps  \\\n",
      "0          92771 2021-01-02      1073  Jefferson County    563       0    441   \n",
      "1          92772 2021-01-02      1073  Jefferson County    563       0    441   \n",
      "2          92773 2021-01-02      1073  Jefferson County    563       0    441   \n",
      "3          92774 2021-01-03      1073  Jefferson County    391       1    431   \n",
      "4          92775 2021-01-03      1073  Jefferson County    391       1    431   \n",
      "...          ...        ...       ...               ...    ...     ...    ...   \n",
      "1662       94433 2022-08-20      1073  Jefferson County      0       0     80   \n",
      "1663       94434 2022-08-21      1073  Jefferson County      0       0     91   \n",
      "1664       94435 2022-08-22      1073  Jefferson County      0       0    111   \n",
      "1665       94436 2022-08-23      1073  Jefferson County      0       0    109   \n",
      "1666       94437 2022-08-24      1073  Jefferson County      0       0    118   \n",
      "\n",
      "       vac_count  \n",
      "0         0.0000  \n",
      "1         0.0000  \n",
      "2         0.0000  \n",
      "3         0.0000  \n",
      "4         0.0000  \n",
      "...          ...  \n",
      "1662         NaN  \n",
      "1663         NaN  \n",
      "1664         NaN  \n",
      "1665         NaN  \n",
      "1666 393649.0000  \n",
      "\n",
      "[1667 rows x 8 columns]\n",
      "      Unnamed: 0        date  location     location_name  cases  deaths  \\\n",
      "0          92771  2021-01-02      1073  Jefferson County    563       0   \n",
      "1          92772  2021-01-02      1073  Jefferson County    563       0   \n",
      "2          92773  2021-01-02      1073  Jefferson County    563       0   \n",
      "3          92774  2021-01-03      1073  Jefferson County    391       1   \n",
      "4          92775  2021-01-03      1073  Jefferson County    391       1   \n",
      "...          ...         ...       ...               ...    ...     ...   \n",
      "1662       94433  2022-08-20      1073  Jefferson County      0       0   \n",
      "1663       94434  2022-08-21      1073  Jefferson County      0       0   \n",
      "1664       94435  2022-08-22      1073  Jefferson County      0       0   \n",
      "1665       94436  2022-08-23      1073  Jefferson County      0       0   \n",
      "1666       94437  2022-08-24      1073  Jefferson County      0       0   \n",
      "\n",
      "      hosps  vac_count  \n",
      "0       441          0  \n",
      "1       441          0  \n",
      "2       441          0  \n",
      "3       431          0  \n",
      "4       431          0  \n",
      "...     ...        ...  \n",
      "1662     80     393369  \n",
      "1663     91     393439  \n",
      "1664    111     393509  \n",
      "1665    109     393579  \n",
      "1666    118     393649  \n",
      "\n",
      "[1667 rows x 8 columns]\n"
     ]
    }
   ],
   "source": [
    "if __name__ == \"__main__\":\n",
    "    pd.options.display.float_format = '{:.4f}'.format\n",
    "    jeff_c = pd.read_csv('_4streams_al_jeff_county.csv.gz')\n",
    "    jeff_c['date'] = pd.to_datetime(jeff_c['date'])\n",
    "    print(jeff_c)\n",
    "    #temp1 = temp[(temp['date'] >= '2022-06-16') & (temp['date']<='2022-07-06')]\n",
    "    jeff_c['date'] = jeff_c['date'].dt.strftime('%Y-%m-%d')\n",
    "    temp8 = jeff_c[jeff_c['date'] <= '2022-07-16']\n",
    "    temp8 = temp8[temp8['date'] >= '2022-06-10']\n",
    "    for location in jeff_c['location_name'].unique():\n",
    "            for date in jeff_c['date'].unique():\n",
    "                if date >= '2022-06-16':\n",
    "                    jeff_c['vac_count'] = jeff_c['vac_count'].interpolate()\n",
    "                    jeff_c['vac_count'] = jeff_c['vac_count'].astype(int)\n",
    "                    \n",
    "    print(jeff_c)"
   ]
  },
  {
   "cell_type": "code",
   "execution_count": 22,
   "metadata": {},
   "outputs": [
    {
     "name": "stdout",
     "output_type": "stream",
     "text": [
      "            date     location_name  vac_count\n",
      "0     2021-01-02  Jefferson County          0\n",
      "1     2021-01-02  Jefferson County          0\n",
      "2     2021-01-02  Jefferson County          0\n",
      "3     2021-01-03  Jefferson County          0\n",
      "4     2021-01-03  Jefferson County          0\n",
      "...          ...               ...        ...\n",
      "1662  2022-08-20  Jefferson County     393369\n",
      "1663  2022-08-21  Jefferson County     393439\n",
      "1664  2022-08-22  Jefferson County     393509\n",
      "1665  2022-08-23  Jefferson County     393579\n",
      "1666  2022-08-24  Jefferson County     393649\n",
      "\n",
      "[1667 rows x 3 columns]\n"
     ]
    },
    {
     "data": {
      "text/plain": [
       "Text(0, 0.5, 'vac_count')"
      ]
     },
     "execution_count": 22,
     "metadata": {},
     "output_type": "execute_result"
    },
    {
     "data": {
      "image/png": "[encoded data removed]",
      "text/plain": [
       "<Figure size 432x288 with 1 Axes>"
      ]
     },
     "metadata": {
      "needs_background": "light"
     },
     "output_type": "display_data"
    }
   ],
   "source": [
    "#time series graph for the jefferson county\n",
    "#we nedd data column and location_name and vac_count column\n",
    "plot_al = jeff_c[['date','location_name','vac_count']]\n",
    "print(plot_al)\n",
    "plt.plot(jeff_c.date, jeff_c.vac_count, label='jeff_county', \n",
    "         linewidth=4)\n",
    "plt.title('vac_Count for jeff_count by date')\n",
    "plt.xlabel('Date')\n",
    "plt.ylabel('vac_count')\n",
    "#from the graph we can see that the values are going down and we will now investogate the graphs\n",
    "#we will now try on counties"
   ]
  },
  {
   "cell_type": "code",
   "execution_count": 23,
   "metadata": {},
   "outputs": [
    {
     "name": "stdout",
     "output_type": "stream",
     "text": [
      "      Unnamed: 0       date  location  location_name  cases  deaths  hosps  \\\n",
      "0         112772 2021-01-02      1097  Mobile County    280       0    441   \n",
      "1         112773 2021-01-02      1097  Mobile County    280       0    441   \n",
      "2         112774 2021-01-02      1097  Mobile County    280       0    441   \n",
      "3         112775 2021-01-03      1097  Mobile County    246       1    431   \n",
      "4         112776 2021-01-03      1097  Mobile County    246       1    431   \n",
      "...          ...        ...       ...            ...    ...     ...    ...   \n",
      "1661      114433 2022-08-20      1097  Mobile County      0       0     80   \n",
      "1662      114434 2022-08-21      1097  Mobile County      0       0     91   \n",
      "1663      114435 2022-08-22      1097  Mobile County      0       0    111   \n",
      "1664      114436 2022-08-23      1097  Mobile County      0       0    109   \n",
      "1665      114437 2022-08-24      1097  Mobile County      0       0    118   \n",
      "\n",
      "       vac_count  \n",
      "0         0.0000  \n",
      "1         0.0000  \n",
      "2         0.0000  \n",
      "3         0.0000  \n",
      "4         0.0000  \n",
      "...          ...  \n",
      "1661         NaN  \n",
      "1662         NaN  \n",
      "1663         NaN  \n",
      "1664         NaN  \n",
      "1665 210772.0000  \n",
      "\n",
      "[1666 rows x 8 columns]\n",
      "      Unnamed: 0        date  location  location_name  cases  deaths  hosps  \\\n",
      "0         112772  2021-01-02      1097  Mobile County    280       0    441   \n",
      "1         112773  2021-01-02      1097  Mobile County    280       0    441   \n",
      "2         112774  2021-01-02      1097  Mobile County    280       0    441   \n",
      "3         112775  2021-01-03      1097  Mobile County    246       1    431   \n",
      "4         112776  2021-01-03      1097  Mobile County    246       1    431   \n",
      "...          ...         ...       ...            ...    ...     ...    ...   \n",
      "1661      114433  2022-08-20      1097  Mobile County      0       0     80   \n",
      "1662      114434  2022-08-21      1097  Mobile County      0       0     91   \n",
      "1663      114435  2022-08-22      1097  Mobile County      0       0    111   \n",
      "1664      114436  2022-08-23      1097  Mobile County      0       0    109   \n",
      "1665      114437  2022-08-24      1097  Mobile County      0       0    118   \n",
      "\n",
      "      vac_count  \n",
      "0             0  \n",
      "1             0  \n",
      "2             0  \n",
      "3             0  \n",
      "4             0  \n",
      "...         ...  \n",
      "1661     210685  \n",
      "1662     210706  \n",
      "1663     210728  \n",
      "1664     210750  \n",
      "1665     210772  \n",
      "\n",
      "[1666 rows x 8 columns]\n"
     ]
    }
   ],
   "source": [
    "if __name__ == \"__main__\":\n",
    "    pd.options.display.float_format = '{:.4f}'.format\n",
    "    mobile_c = pd.read_csv('_4streams_al_mobile_county.csv.gz')\n",
    "    mobile_c['date'] = pd.to_datetime(mobile_c['date'])\n",
    "    print(mobile_c)\n",
    "    #temp1 = temp[(temp['date'] >= '2022-06-16') & (temp['date']<='2022-07-06')]\n",
    "    mobile_c['date'] = mobile_c['date'].dt.strftime('%Y-%m-%d')\n",
    "    temp8 = mobile_c[mobile_c['date'] <= '2022-07-16']\n",
    "    temp8 = temp8[temp8['date'] >= '2022-06-10']\n",
    "    for location in mobile_c['location_name'].unique():\n",
    "            for date in mobile_c['date'].unique():\n",
    "                if date >= '2022-06-16':\n",
    "                    mobile_c['vac_count'] = mobile_c['vac_count'].interpolate()\n",
    "                    mobile_c['vac_count'] = mobile_c['vac_count'].astype(int)\n",
    "                    \n",
    "    print(mobile_c)\n",
    "    "
   ]
  },
  {
   "cell_type": "code",
   "execution_count": 25,
   "metadata": {},
   "outputs": [
    {
     "name": "stdout",
     "output_type": "stream",
     "text": [
      "            date  location_name  vac_count\n",
      "0     2021-01-02  Mobile County          0\n",
      "1     2021-01-02  Mobile County          0\n",
      "2     2021-01-02  Mobile County          0\n",
      "3     2021-01-03  Mobile County          0\n",
      "4     2021-01-03  Mobile County          0\n",
      "...          ...            ...        ...\n",
      "1661  2022-08-20  Mobile County     210685\n",
      "1662  2022-08-21  Mobile County     210706\n",
      "1663  2022-08-22  Mobile County     210728\n",
      "1664  2022-08-23  Mobile County     210750\n",
      "1665  2022-08-24  Mobile County     210772\n",
      "\n",
      "[1666 rows x 3 columns]\n"
     ]
    },
    {
     "data": {
      "text/plain": [
       "Text(0, 0.5, 'vac_count')"
      ]
     },
     "execution_count": 25,
     "metadata": {},
     "output_type": "execute_result"
    },
    {
     "data": {
      "image/png": "[encoded data removed]",
      "text/plain": [
       "<Figure size 432x288 with 1 Axes>"
      ]
     },
     "metadata": {
      "needs_background": "light"
     },
     "output_type": "display_data"
    }
   ],
   "source": [
    "#time series graph for the jefferson county\n",
    "#we nedd data column and location_name and vac_count column\n",
    "plot_al = mobile_c[['date','location_name','vac_count']]\n",
    "print(plot_al)\n",
    "plt.plot(mobile_c.date, mobile_c.vac_count, label='jeff_county', \n",
    "         linewidth=4)\n",
    "plt.title('vac_Count for mobile_count by date')\n",
    "plt.xlabel('Date')\n",
    "plt.ylabel('vac_count')\n",
    "#from the graph we can see that the values are going down and we will now investogate the graphs\n",
    "#we will now try on counties"
   ]
  },
  {
   "cell_type": "code",
   "execution_count": 37,
   "metadata": {},
   "outputs": [
    {
     "name": "stdout",
     "output_type": "stream",
     "text": [
      "      Unnamed: 0        date  location  location_name  cases  deaths  hosps  \\\n",
      "0         112772  2021-01-02      1097  Mobile County    280       0    441   \n",
      "1         112773  2021-01-02      1097  Mobile County    280       0    441   \n",
      "2         112774  2021-01-02      1097  Mobile County    280       0    441   \n",
      "3         112775  2021-01-03      1097  Mobile County    246       1    431   \n",
      "4         112776  2021-01-03      1097  Mobile County    246       1    431   \n",
      "...          ...         ...       ...            ...    ...     ...    ...   \n",
      "1661      114433  2022-08-20      1097  Mobile County      0       0     80   \n",
      "1662      114434  2022-08-21      1097  Mobile County      0       0     91   \n",
      "1663      114435  2022-08-22      1097  Mobile County      0       0    111   \n",
      "1664      114436  2022-08-23      1097  Mobile County      0       0    109   \n",
      "1665      114437  2022-08-24      1097  Mobile County      0       0    118   \n",
      "\n",
      "      vac_count  \n",
      "0             0  \n",
      "1             0  \n",
      "2             0  \n",
      "3             0  \n",
      "4             0  \n",
      "...         ...  \n",
      "1661     210685  \n",
      "1662     210706  \n",
      "1663     210728  \n",
      "1664     210750  \n",
      "1665     210772  \n",
      "\n",
      "[1666 rows x 8 columns]\n",
      "      Unnamed: 0        date  location      location_name  cases  deaths  \\\n",
      "0          34434  2021-01-02      1003     Baldwin County    132       0   \n",
      "1          34435  2021-01-02      1003     Baldwin County    132       0   \n",
      "2          34436  2021-01-02      1003     Baldwin County    132       0   \n",
      "3          34437  2021-01-03      1003     Baldwin County    109       1   \n",
      "4          34438  2021-01-03      1003     Baldwin County    109       1   \n",
      "...          ...         ...       ...                ...    ...     ...   \n",
      "6663      137769  2022-08-20      1125  Tuscaloosa County      0       0   \n",
      "6664      137770  2022-08-21      1125  Tuscaloosa County      0       0   \n",
      "6665      137771  2022-08-22      1125  Tuscaloosa County      0       0   \n",
      "6666      137772  2022-08-23      1125  Tuscaloosa County      0       0   \n",
      "6667      137773  2022-08-24      1125  Tuscaloosa County      0       0   \n",
      "\n",
      "      hosps  vac_count  \n",
      "0       441          0  \n",
      "1       441          0  \n",
      "2       441          0  \n",
      "3       431          0  \n",
      "4       431          0  \n",
      "...     ...        ...  \n",
      "6663     80      93255  \n",
      "6664     91      93269  \n",
      "6665    111      93282  \n",
      "6666    109      93296  \n",
      "6667    118      93310  \n",
      "\n",
      "[6668 rows x 8 columns]\n"
     ]
    }
   ],
   "source": [
    "#we have to reate plots for all the counties\n",
    "#code for 4 counties: Madison county, Baldwin county, Montgomery county, Tuscaloosa\n",
    "if __name__ == \"__main__\":\n",
    "    pd.options.display.float_format = '{:.4f}'.format\n",
    "    _4_county = pd.read_csv('_4streams_4_county.csv.gz')\n",
    "    _4_county['date'] = pd.to_datetime(_4_county['date'])\n",
    "    print(mobile_c)\n",
    "    #temp1 = temp[(temp['date'] >= '2022-06-16') & (temp['date']<='2022-07-06')]\n",
    "    _4_county['date'] = _4_county['date'].dt.strftime('%Y-%m-%d')\n",
    "    temp8 = _4_county[_4_county['date'] <= '2022-07-16']\n",
    "    temp8 = temp8[temp8['date'] >= '2022-06-10']\n",
    "    for location in mobile_c['location_name'].unique():\n",
    "            for date in _4_county['date'].unique():\n",
    "                if date >= '2022-06-16':\n",
    "                    _4_county['vac_count'] = _4_county['vac_count'].interpolate()\n",
    "                    _4_county['vac_count'] = _4_county['vac_count'].astype(int)\n",
    "                    \n",
    "    print(_4_county)"
   ]
  },
  {
   "cell_type": "code",
   "execution_count": 46,
   "metadata": {},
   "outputs": [
    {
     "name": "stdout",
     "output_type": "stream",
     "text": [
      "            date      location_name  vac_count\n",
      "0     2021-01-02     Baldwin County          0\n",
      "1     2021-01-02     Baldwin County          0\n",
      "2     2021-01-02     Baldwin County          0\n",
      "3     2021-01-03     Baldwin County          0\n",
      "4     2021-01-03     Baldwin County          0\n",
      "...          ...                ...        ...\n",
      "6663  2022-08-20  Tuscaloosa County      93255\n",
      "6664  2022-08-21  Tuscaloosa County      93269\n",
      "6665  2022-08-22  Tuscaloosa County      93282\n",
      "6666  2022-08-23  Tuscaloosa County      93296\n",
      "6667  2022-08-24  Tuscaloosa County      93310\n",
      "\n",
      "[6668 rows x 3 columns]\n",
      "Baldwin County\n",
      "            date   location_name  vac_count\n",
      "0     2021-01-02  Baldwin County          0\n",
      "1     2021-01-02  Baldwin County          0\n",
      "2     2021-01-02  Baldwin County          0\n",
      "3     2021-01-03  Baldwin County          0\n",
      "4     2021-01-03  Baldwin County          0\n",
      "...          ...             ...        ...\n",
      "1662  2022-08-20  Baldwin County     116275\n",
      "1663  2022-08-21  Baldwin County     116287\n",
      "1664  2022-08-22  Baldwin County     116299\n",
      "1665  2022-08-23  Baldwin County     116311\n",
      "1666  2022-08-24  Baldwin County     116323\n",
      "\n",
      "[1667 rows x 3 columns]\n",
      "Madison County\n",
      "            date   location_name  vac_count\n",
      "1667  2021-01-02  Madison County          0\n",
      "1668  2021-01-02  Madison County          0\n",
      "1669  2021-01-02  Madison County          0\n",
      "1670  2021-01-03  Madison County          0\n",
      "1671  2021-01-03  Madison County          0\n",
      "...          ...             ...        ...\n",
      "3329  2022-08-20  Madison County     237402\n",
      "3330  2022-08-21  Madison County     237434\n",
      "3331  2022-08-22  Madison County     237466\n",
      "3332  2022-08-23  Madison County     237498\n",
      "3333  2022-08-24  Madison County     237530\n",
      "\n",
      "[1667 rows x 3 columns]\n",
      "Montgomery County\n",
      "            date      location_name  vac_count\n",
      "3334  2021-01-02  Montgomery County          0\n",
      "3335  2021-01-02  Montgomery County          0\n",
      "3336  2021-01-02  Montgomery County          0\n",
      "3337  2021-01-03  Montgomery County          0\n",
      "3338  2021-01-03  Montgomery County          0\n",
      "...          ...                ...        ...\n",
      "4996  2022-08-20  Montgomery County     121344\n",
      "4997  2022-08-21  Montgomery County     121363\n",
      "4998  2022-08-22  Montgomery County     121381\n",
      "4999  2022-08-23  Montgomery County     121400\n",
      "5000  2022-08-24  Montgomery County     121419\n",
      "\n",
      "[1667 rows x 3 columns]\n",
      "Tuscaloosa County\n",
      "            date      location_name  vac_count\n",
      "5001  2021-01-02  Tuscaloosa County          0\n",
      "5002  2021-01-02  Tuscaloosa County          0\n",
      "5003  2021-01-02  Tuscaloosa County          0\n",
      "5004  2021-01-03  Tuscaloosa County          0\n",
      "5005  2021-01-03  Tuscaloosa County          0\n",
      "...          ...                ...        ...\n",
      "6663  2022-08-20  Tuscaloosa County      93255\n",
      "6664  2022-08-21  Tuscaloosa County      93269\n",
      "6665  2022-08-22  Tuscaloosa County      93282\n",
      "6666  2022-08-23  Tuscaloosa County      93296\n",
      "6667  2022-08-24  Tuscaloosa County      93310\n",
      "\n",
      "[1667 rows x 3 columns]\n"
     ]
    },
    {
     "data": {
      "image/png": "[encoded data removed]",
      "text/plain": [
       "<Figure size 432x288 with 1 Axes>"
      ]
     },
     "metadata": {
      "needs_background": "light"
     },
     "output_type": "display_data"
    }
   ],
   "source": [
    "#time series graph for the jefferson county\n",
    "#we nedd data column and location_name and vac_count column\n",
    "#plot for 4 counties: Madison county, Baldwin county, Montgomery county, Tuscaloosa\n",
    "plot_al = _4_county[['date','location_name','vac_count']]\n",
    "print(plot_al)\n",
    "for k, g in plot_al.groupby('location_name'):\n",
    "    print (k),print (g)\n",
    "    plt.plot(g.date, g.vac_count, label='g', \n",
    "         linewidth=4)\n",
    "    plt.title('vac_Count by date')\n",
    "    plt.xlabel('Date')\n",
    "    plt.ylabel('vac_count')\n",
    "\n",
    "\n",
    "#from the graph we can see that the values are going down and we will now investogate the graphs\n",
    "#we will now try on counties"
   ]
  },
  {
   "cell_type": "code",
   "execution_count": 49,
   "metadata": {},
   "outputs": [
    {
     "name": "stdout",
     "output_type": "stream",
     "text": [
      "      Unnamed: 0       date  location   location_name  cases  deaths  hosps  \\\n",
      "0          32767 2021-01-02      1001  Autauga County     29       0    441   \n",
      "1          32768 2021-01-02      1001  Autauga County     29       0    441   \n",
      "2          32769 2021-01-02      1001  Autauga County     29       0    441   \n",
      "3          32770 2021-01-03      1001  Autauga County     37       1    431   \n",
      "4          32771 2021-01-03      1001  Autauga County     37       1    431   \n",
      "...          ...        ...       ...             ...    ...     ...    ...   \n",
      "9995       44429 2022-08-20      1013   Butler County      0       0     80   \n",
      "9996       44430 2022-08-21      1013   Butler County      0       0     91   \n",
      "9997       44431 2022-08-22      1013   Butler County      0       0    111   \n",
      "9998       44432 2022-08-23      1013   Butler County      0       0    109   \n",
      "9999       44433 2022-08-24      1013   Butler County      0       0    118   \n",
      "\n",
      "      vac_count  \n",
      "0        0.0000  \n",
      "1        0.0000  \n",
      "2        0.0000  \n",
      "3        0.0000  \n",
      "4        0.0000  \n",
      "...         ...  \n",
      "9995        NaN  \n",
      "9996        NaN  \n",
      "9997        NaN  \n",
      "9998        NaN  \n",
      "9999  7825.0000  \n",
      "\n",
      "[10000 rows x 8 columns]\n",
      "      Unnamed: 0        date  location   location_name  cases  deaths  hosps  \\\n",
      "1572       34339  2022-06-10      1001  Autauga County     11       8     45   \n",
      "1573       34340  2022-06-10      1001  Autauga County     11       8     45   \n",
      "1574       34341  2022-06-10      1001  Autauga County     11       8     45   \n",
      "1575       34342  2022-06-11      1001  Autauga County      0       0     42   \n",
      "1576       34343  2022-06-11      1001  Autauga County      0       0     42   \n",
      "...          ...         ...       ...             ...    ...     ...    ...   \n",
      "9995       44429  2022-08-20      1013   Butler County      0       0     80   \n",
      "9996       44430  2022-08-21      1013   Butler County      0       0     91   \n",
      "9997       44431  2022-08-22      1013   Butler County      0       0    111   \n",
      "9998       44432  2022-08-23      1013   Butler County      0       0    109   \n",
      "9999       44433  2022-08-24      1013   Butler County      0       0    118   \n",
      "\n",
      "      vac_count  \n",
      "1572      24928  \n",
      "1573      24928  \n",
      "1574      24928  \n",
      "1575      24932  \n",
      "1576      24932  \n",
      "...         ...  \n",
      "9995       7822  \n",
      "9996       7823  \n",
      "9997       7823  \n",
      "9998       7824  \n",
      "9999       7825  \n",
      "\n",
      "[568 rows x 8 columns]\n"
     ]
    }
   ],
   "source": [
    "#we have to reate plots for all the counties\n",
    "#code for 4 counties: Madison county, Baldwin county, Montgomery county, Tuscaloosa\n",
    "if __name__ == \"__main__\":\n",
    "    pd.options.display.float_format = '{:.4f}'.format\n",
    "    _1st_Set = pd.read_csv('_4streams_1st_Set.csv.gz')\n",
    "    _1st_Set['date'] = pd.to_datetime(_1st_Set['date'])\n",
    "    print(_1st_Set)\n",
    "    #temp1 = temp[(temp['date'] >= '2022-06-16') & (temp['date']<='2022-07-06')]\n",
    "    _1st_Set['date'] = _1st_Set['date'].dt.strftime('%Y-%m-%d')\n",
    "    temp8 = _1st_Set[_1st_Set['date'] <= '2022-07-16']\n",
    "    _1st_Set = _1st_Set[_1st_Set['date'] >= '2022-06-10']\n",
    "    for location in _1st_Set['location_name'].unique():\n",
    "            for date in _1st_Set['date'].unique():\n",
    "                if date >= '2022-06-16':\n",
    "                    _1st_Set['vac_count'] = _1st_Set['vac_count'].interpolate()\n",
    "                    _1st_Set['vac_count'] = _1st_Set['vac_count'].astype(int)\n",
    "                    \n",
    "    print(_1st_Set)"
   ]
  },
  {
   "cell_type": "code",
   "execution_count": 50,
   "metadata": {},
   "outputs": [
    {
     "name": "stdout",
     "output_type": "stream",
     "text": [
      "            date   location_name  vac_count\n",
      "1572  2022-06-10  Autauga County      24928\n",
      "1573  2022-06-10  Autauga County      24928\n",
      "1574  2022-06-10  Autauga County      24928\n",
      "1575  2022-06-11  Autauga County      24932\n",
      "1576  2022-06-11  Autauga County      24932\n",
      "...          ...             ...        ...\n",
      "9995  2022-08-20   Butler County       7822\n",
      "9996  2022-08-21   Butler County       7823\n",
      "9997  2022-08-22   Butler County       7823\n",
      "9998  2022-08-23   Butler County       7824\n",
      "9999  2022-08-24   Butler County       7825\n",
      "\n",
      "[568 rows x 3 columns]\n"
     ]
    },
    {
     "data": {
      "image/png": "[encoded data removed]",
      "text/plain": [
       "<Figure size 432x288 with 1 Axes>"
      ]
     },
     "metadata": {
      "needs_background": "light"
     },
     "output_type": "display_data"
    }
   ],
   "source": [
    "plot_al = _1st_Set[['date','location_name','vac_count']]\n",
    "print(plot_al)\n",
    "for k, g in plot_al.groupby('location_name'):\n",
    "    plt.plot(g.date, g.vac_count, label='g', \n",
    "         linewidth=4)\n",
    "    plt.title('vac_Count by date')\n",
    "    plt.xlabel('Date')\n",
    "    plt.ylabel('vac_count')\n"
   ]
  },
  {
   "cell_type": "code",
   "execution_count": null,
   "metadata": {},
   "outputs": [],
   "source": []
  }
 ],
 "metadata": {
  "kernelspec": {
   "display_name": "Python 3",
   "language": "python",
   "name": "python3"
  },
  "language_info": {
   "codemirror_mode": {
    "name": "ipython",
    "version": 3
   },
   "file_extension": ".py",
   "mimetype": "text/x-python",
   "name": "python",
   "nbconvert_exporter": "python",
   "pygments_lexer": "ipython3",
   "version": "3.8.8"
  }
 },
 "nbformat": 4,
 "nbformat_minor": 2
}
